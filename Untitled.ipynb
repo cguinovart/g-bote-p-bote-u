{
 "cells": [
  {
   "cell_type": "code",
   "execution_count": 1,
   "id": "4fedaa75",
   "metadata": {},
   "outputs": [],
   "source": [
    "from selenium import webdriver as wd\n",
    "import chromedriver_binary\n",
    "from selenium.webdriver import ActionChains\n",
    "import selenium\n",
    "from selenium.webdriver.common.keys import Keys\n",
    "\n"
   ]
  },
  {
   "cell_type": "code",
   "execution_count": 2,
   "id": "f0b22ddb",
   "metadata": {},
   "outputs": [],
   "source": [
    "wd = wd.Chrome()\n",
    "wd.implicitly_wait(10)"
   ]
  },
  {
   "cell_type": "code",
   "execution_count": 3,
   "id": "3eecf936",
   "metadata": {},
   "outputs": [],
   "source": [
    "wd.get(\"https://www.ldlc.com/es-es/ficha/PB00390458.html\")"
   ]
  },
  {
   "cell_type": "code",
   "execution_count": 4,
   "id": "cb51f920",
   "metadata": {},
   "outputs": [],
   "source": [
    "bttn_cookies = wd.find_element_by_css_selector('#cookieConsentAcceptButton')\n",
    "bttn_cookies.click()"
   ]
  },
  {
   "cell_type": "code",
   "execution_count": 5,
   "id": "757992bb",
   "metadata": {},
   "outputs": [],
   "source": []
  },
  {
   "cell_type": "code",
   "execution_count": 6,
   "id": "a11bb3c5",
   "metadata": {
    "scrolled": true
   },
   "outputs": [],
   "source": [
    "bttn_addCart = wd.find_element_by_css_selector('#product-page-price > div.add-to-cart-bloc > a.button.picto.color2.noMarge.add-to-cart-oneclic')\n",
    "bttn_addCart.click()"
   ]
  },
  {
   "cell_type": "code",
   "execution_count": 7,
   "id": "5d3fee72",
   "metadata": {},
   "outputs": [],
   "source": []
  },
  {
   "cell_type": "code",
   "execution_count": 8,
   "id": "72e5e417",
   "metadata": {},
   "outputs": [],
   "source": [
    "input_email = wd.find_element_by_css_selector('#Email')"
   ]
  },
  {
   "cell_type": "code",
   "execution_count": 9,
   "id": "3a8fcff7",
   "metadata": {},
   "outputs": [],
   "source": [
    "input_pswd = wd.find_element_by_css_selector('#Password')"
   ]
  },
  {
   "cell_type": "code",
   "execution_count": 10,
   "id": "cafa7d26",
   "metadata": {},
   "outputs": [
    {
     "data": {
      "text/plain": [
       "selenium.webdriver.remote.webelement.WebElement"
      ]
     },
     "execution_count": 10,
     "metadata": {},
     "output_type": "execute_result"
    }
   ],
   "source": [
    "type(input_email)"
   ]
  },
  {
   "cell_type": "code",
   "execution_count": 11,
   "id": "ce669206",
   "metadata": {},
   "outputs": [
    {
     "data": {
      "text/plain": [
       "selenium.webdriver.remote.webelement.WebElement"
      ]
     },
     "execution_count": 11,
     "metadata": {},
     "output_type": "execute_result"
    }
   ],
   "source": [
    "selenium.webdriver.remote.webelement.WebElement\n"
   ]
  },
  {
   "cell_type": "code",
   "execution_count": 12,
   "id": "23409b88",
   "metadata": {},
   "outputs": [],
   "source": [
    "input_email.send_keys(\"carlillos.guinovart@gmail.com\")"
   ]
  },
  {
   "cell_type": "code",
   "execution_count": 13,
   "id": "03a0cffc",
   "metadata": {},
   "outputs": [],
   "source": [
    "input_pswd.send_keys(\"Carlillos14\")"
   ]
  },
  {
   "cell_type": "code",
   "execution_count": 14,
   "id": "32836421",
   "metadata": {},
   "outputs": [],
   "source": [
    "bttn_logIn = wd.find_element_by_css_selector('body > div.main.identification > div > form > button')"
   ]
  },
  {
   "cell_type": "code",
   "execution_count": 15,
   "id": "17401f09",
   "metadata": {},
   "outputs": [],
   "source": [
    "bttn_logIn.click()"
   ]
  },
  {
   "cell_type": "code",
   "execution_count": 16,
   "id": "84843a08",
   "metadata": {},
   "outputs": [],
   "source": [
    "radBttn_fee = wd.find_element_by_class_name('radio')"
   ]
  },
  {
   "cell_type": "code",
   "execution_count": 17,
   "id": "ee0d10a8",
   "metadata": {},
   "outputs": [],
   "source": [
    "radBttn_fee.click()"
   ]
  },
  {
   "cell_type": "code",
   "execution_count": null,
   "id": "0ff7b56d",
   "metadata": {},
   "outputs": [],
   "source": []
  }
 ],
 "metadata": {
  "kernelspec": {
   "display_name": "Python 3",
   "language": "python",
   "name": "python3"
  },
  "language_info": {
   "codemirror_mode": {
    "name": "ipython",
    "version": 3
   },
   "file_extension": ".py",
   "mimetype": "text/x-python",
   "name": "python",
   "nbconvert_exporter": "python",
   "pygments_lexer": "ipython3",
   "version": "3.8.10"
  }
 },
 "nbformat": 4,
 "nbformat_minor": 5
}
