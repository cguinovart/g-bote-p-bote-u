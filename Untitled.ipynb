{
 "cells": [
  {
   "cell_type": "code",
   "execution_count": 1,
   "id": "ee0ed701",
   "metadata": {},
   "outputs": [],
   "source": [
    "from selenium import webdriver as wd\n",
    "import chromedriver_binary\n",
    "from selenium.webdriver import ActionChains\n",
    "import selenium\n",
    "from selenium.webdriver.common.keys import Keys\n",
    "\n"
   ]
  },
  {
   "cell_type": "code",
   "execution_count": 2,
   "id": "7cb26570",
   "metadata": {},
   "outputs": [],
   "source": [
    "wd = wd.Chrome()\n",
    "wd.implicitly_wait(10)"
   ]
  },
  {
   "cell_type": "code",
   "execution_count": 3,
   "id": "abac6ab8",
   "metadata": {},
   "outputs": [],
   "source": [
    "wd.get(\"https://www.ldlc.com/es-es/ficha/PB00282293.html\")"
   ]
  },
  {
   "cell_type": "code",
   "execution_count": 4,
   "id": "58e71d1f",
   "metadata": {},
   "outputs": [],
   "source": [
    "bttn_cookies = wd.find_element_by_css_selector('#cookieConsentAcceptButton')"
   ]
  },
  {
   "cell_type": "code",
   "execution_count": 5,
   "id": "17601435",
   "metadata": {},
   "outputs": [],
   "source": [
    "bttn_cookies.click()"
   ]
  },
  {
   "cell_type": "code",
   "execution_count": 6,
   "id": "20ebb169",
   "metadata": {
    "scrolled": true
   },
   "outputs": [],
   "source": [
    "bttn_addCart = wd.find_element_by_css_selector('#product-page-price > div.add-to-cart-bloc > a.button.picto.color2.noMarge.add-to-cart-oneclic')\n"
   ]
  },
  {
   "cell_type": "code",
   "execution_count": 7,
   "id": "f2d0f6a3",
   "metadata": {},
   "outputs": [],
   "source": [
    "bttn_addCart.click()"
   ]
  },
  {
   "cell_type": "code",
   "execution_count": 8,
   "id": "2542a78d",
   "metadata": {},
   "outputs": [],
   "source": [
    "input_email = wd.find_element_by_css_selector('#Email')"
   ]
  },
  {
   "cell_type": "code",
   "execution_count": 9,
   "id": "eb43be91",
   "metadata": {},
   "outputs": [],
   "source": [
    "input_pswd = wd.find_element_by_css_selector('#Password')"
   ]
  },
  {
   "cell_type": "code",
   "execution_count": 10,
   "id": "6a3442e8",
   "metadata": {},
   "outputs": [
    {
     "data": {
      "text/plain": [
       "selenium.webdriver.remote.webelement.WebElement"
      ]
     },
     "execution_count": 10,
     "metadata": {},
     "output_type": "execute_result"
    }
   ],
   "source": [
    "type(input_email)"
   ]
  },
  {
   "cell_type": "code",
   "execution_count": 11,
   "id": "ce0256c2",
   "metadata": {},
   "outputs": [
    {
     "data": {
      "text/plain": [
       "selenium.webdriver.remote.webelement.WebElement"
      ]
     },
     "execution_count": 11,
     "metadata": {},
     "output_type": "execute_result"
    }
   ],
   "source": [
    "selenium.webdriver.remote.webelement.WebElement\n"
   ]
  },
  {
   "cell_type": "code",
   "execution_count": 12,
   "id": "002bd39c",
   "metadata": {},
   "outputs": [],
   "source": [
    "input_email.send_keys(\"carlillos.guinovart@gmail.com\")"
   ]
  },
  {
   "cell_type": "code",
   "execution_count": 13,
   "id": "d98992bb",
   "metadata": {},
   "outputs": [],
   "source": [
    "input_pswd.send_keys(\"Carlillos14\")"
   ]
  },
  {
   "cell_type": "code",
   "execution_count": 14,
   "id": "dc337dd1",
   "metadata": {},
   "outputs": [],
   "source": [
    "bttn_logIn = wd.find_element_by_css_selector('body > div.main.identification > div > form > button')"
   ]
  },
  {
   "cell_type": "code",
   "execution_count": 15,
   "id": "52a08c82",
   "metadata": {},
   "outputs": [],
   "source": [
    "bttn_logIn.click()"
   ]
  },
  {
   "cell_type": "code",
   "execution_count": 16,
   "id": "eb5ff0a1",
   "metadata": {},
   "outputs": [],
   "source": [
    "radBttn_fee = wd.find_element_by_class_name('radio')"
   ]
  },
  {
   "cell_type": "code",
   "execution_count": 17,
   "id": "89a53dce",
   "metadata": {},
   "outputs": [],
   "source": [
    "radBttn_fee.click()"
   ]
  },
  {
   "cell_type": "code",
   "execution_count": null,
   "id": "4df91c77",
   "metadata": {},
   "outputs": [],
   "source": []
  }
 ],
 "metadata": {
  "kernelspec": {
   "display_name": "Python 3",
   "language": "python",
   "name": "python3"
  },
  "language_info": {
   "codemirror_mode": {
    "name": "ipython",
    "version": 3
   },
   "file_extension": ".py",
   "mimetype": "text/x-python",
   "name": "python",
   "nbconvert_exporter": "python",
   "pygments_lexer": "ipython3",
   "version": "3.8.10"
  }
 },
 "nbformat": 4,
 "nbformat_minor": 5
}
